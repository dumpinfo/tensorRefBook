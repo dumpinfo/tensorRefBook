{
 "cells": [
  {
   "cell_type": "markdown",
   "metadata": {
    "toc": true
   },
   "source": [
    "<h1>Table of Contents<span class=\"tocSkip\"></span></h1>\n",
    "<div class=\"toc\"><ul class=\"toc-item\"></ul></div>"
   ]
  },
  {
   "cell_type": "code",
   "execution_count": 18,
   "metadata": {},
   "outputs": [],
   "source": [
    "# load dslib\n",
    "DSLIB_HOME = '../../datasetslib'\n",
    "import sys\n",
    "if not DSLIB_HOME in sys.path:\n",
    "    sys.path.append(DSLIB_HOME)\n",
    "%reload_ext autoreload\n",
    "%autoreload 2\n",
    "import datasetslib as dslib\n",
    "\n",
    "# set the datasets root folder before you do the datasetslib import\n",
    "import os\n",
    "dslib.dsroot = os.path.join(os.path.expanduser('~'),'datasets')\n",
    "\n",
    "from datasetslib.utils import imutil\n",
    "from datasetslib.utils import nputil\n",
    "from datasetslib.mnist import MNIST"
   ]
  },
  {
   "cell_type": "code",
   "execution_count": 19,
   "metadata": {},
   "outputs": [],
   "source": [
    "# create an object of class datasetslib.mnist.MNIST\n",
    "mnist=MNIST()"
   ]
  },
  {
   "cell_type": "code",
   "execution_count": 20,
   "metadata": {},
   "outputs": [],
   "source": [
    "# remove existing mnist folder if it exists\n",
    "mnist.remove_home()"
   ]
  },
  {
   "cell_type": "code",
   "execution_count": null,
   "metadata": {
    "scrolled": true
   },
   "outputs": [
    {
     "name": "stdout",
     "output_type": "stream",
     "text": [
      "Downloading: http://yann.lecun.com/exdb/mnist/train-images-idx3-ubyte.gz\n",
      "Downloaded : /home/armando/datasets/mnist/train-images-idx3-ubyte.gz ( 9912422 bytes)\n",
      "Downloading: http://yann.lecun.com/exdb/mnist/train-labels-idx1-ubyte.gz\n",
      "Downloaded : /home/armando/datasets/mnist/train-labels-idx1-ubyte.gz ( 28881 bytes)\n",
      "Downloading: http://yann.lecun.com/exdb/mnist/t10k-images-idx3-ubyte.gz\n",
      "Downloaded : /home/armando/datasets/mnist/t10k-images-idx3-ubyte.gz ( 1648877 bytes)\n",
      "Downloading: http://yann.lecun.com/exdb/mnist/t10k-labels-idx1-ubyte.gz\n",
      "Downloaded : /home/armando/datasets/mnist/t10k-labels-idx1-ubyte.gz ( 4542 bytes)\n",
      "Extracting and rearchiving as jpg files...\n",
      "/home/armando/datasets/mnist/train-images-idx3-ubyte.gz\n",
      "Reading from  /home/armando/datasets/mnist/train-images-idx3-ubyte.gz\n",
      "Reading from  /home/armando/datasets/mnist/train-labels-idx1-ubyte.gz\n",
      "Saving  train\n",
      "Zipping  train\n",
      "/home/armando/datasets/mnist/train-images-idx3-ubyte.gz\n",
      "Reading from  /home/armando/datasets/mnist/t10k-images-idx3-ubyte.gz\n",
      "Reading from  /home/armando/datasets/mnist/t10k-labels-idx1-ubyte.gz\n",
      "Saving  test\n",
      "Zipping  test\n"
     ]
    }
   ],
   "source": [
    "# load images in x and labels in y for train and test sets\n",
    "mnist.y_onehot = False\n",
    "mnist.x_layout = imutil.LAYOUT_NP\n",
    "\n",
    "x_train,y_train,x_test,y_test=mnist.load_data()\n",
    "\n",
    "x_train = mnist.load_images(x_train)\n",
    "#y_train = nputil.onehot(y_train)\n",
    "x_test = mnist.load_images(x_test)\n",
    "#y_test = nputil.onehot(y_test)\n",
    "\n",
    "print('Loaded x and y')\n",
    "print('Train: x:{}, y:{}'.format(x_train.shape,y_train.shape))\n",
    "print('Test: x:{}, y:{}'.format(x_test.shape,y_test.shape))"
   ]
  },
  {
   "cell_type": "code",
   "execution_count": null,
   "metadata": {},
   "outputs": [],
   "source": []
  }
 ],
 "metadata": {
  "kernelspec": {
   "display_name": "Python 3",
   "language": "python",
   "name": "python3"
  },
  "language_info": {
   "codemirror_mode": {
    "name": "ipython",
    "version": 3
   },
   "file_extension": ".py",
   "mimetype": "text/x-python",
   "name": "python",
   "nbconvert_exporter": "python",
   "pygments_lexer": "ipython3",
   "version": "3.6.7"
  },
  "toc": {
   "base_numbering": 1,
   "nav_menu": {},
   "number_sections": true,
   "sideBar": true,
   "skip_h1_title": true,
   "title_cell": "Table of Contents",
   "title_sidebar": "Contents",
   "toc_cell": true,
   "toc_position": {},
   "toc_section_display": true,
   "toc_window_display": true
  }
 },
 "nbformat": 4,
 "nbformat_minor": 2
}
